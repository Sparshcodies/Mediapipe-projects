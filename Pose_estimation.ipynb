{
 "cells": [
  {
   "cell_type": "code",
   "execution_count": 2,
   "metadata": {},
   "outputs": [],
   "source": [
    "import cv2\n",
    "import time\n",
    "import mediapipe as mp"
   ]
  },
  {
   "cell_type": "code",
   "execution_count": 3,
   "metadata": {},
   "outputs": [],
   "source": [
    "mpPose = mp.solutions.pose\n",
    "pose = mpPose.Pose()\n",
    "mpDraw = mp.solutions.drawing_utils"
   ]
  },
  {
   "cell_type": "code",
   "execution_count": 5,
   "metadata": {},
   "outputs": [
    {
     "name": "stderr",
     "output_type": "stream",
     "text": [
      "c:\\Users\\spars\\AppData\\Local\\Programs\\Python\\Python312\\Lib\\site-packages\\google\\protobuf\\symbol_database.py:55: UserWarning: SymbolDatabase.GetPrototype() is deprecated. Please use message_factory.GetMessageClass() instead. SymbolDatabase.GetPrototype() will be removed soon.\n",
      "  warnings.warn('SymbolDatabase.GetPrototype() is deprecated. Please '\n"
     ]
    }
   ],
   "source": [
    "cap = cv2.VideoCapture('Videos/5319856-uhd_2160_3840_25fps.mp4')\n",
    "pTime = 0\n",
    "while (cap.isOpened()):\n",
    "    success, img = cap.read()\n",
    "    if success:\n",
    "        img = cv2.resize(img, (500,800), interpolation=cv2.INTER_CUBIC)\n",
    "        img_rgb = cv2.cvtColor(img, cv2.COLOR_BGR2RGB)\n",
    "        result = pose.process(img_rgb)\n",
    "        # print(result.pose_landmarks)\n",
    "        if result.pose_landmarks:\n",
    "            mpDraw.draw_landmarks(img, result.pose_landmarks,mpPose.POSE_CONNECTIONS)\n",
    "            for id, lm in enumerate(result.pose_landmarks.landmark):\n",
    "                height, width, dims = img.shape\n",
    "                cx, cy = int(lm.x * width), int(lm.y * height)\n",
    "                cv2.circle(img, (cx, cy), 5, (255,0,0), -1)\n",
    "        cTime = time.time()\n",
    "        fps = 1/(cTime - pTime)  \n",
    "        pTime = cTime  \n",
    "        cv2.putText(img,\"FPS:\"+str(int(fps)),(10,70),cv2.FONT_HERSHEY_PLAIN,3,(255,255,255),2)\n",
    "        cv2.imshow(\"image\", img)\n",
    "        if cv2.waitKey(1) & 0xFF == ord('d'):\n",
    "            break\n",
    "    else:\n",
    "        break\n",
    "cap.release() \n",
    "\n",
    "# Destroy all the windows \n",
    "cv2.destroyAllWindows() "
   ]
  },
  {
   "cell_type": "code",
   "execution_count": null,
   "metadata": {},
   "outputs": [],
   "source": []
  }
 ],
 "metadata": {
  "kernelspec": {
   "display_name": "Python 3",
   "language": "python",
   "name": "python3"
  },
  "language_info": {
   "codemirror_mode": {
    "name": "ipython",
    "version": 3
   },
   "file_extension": ".py",
   "mimetype": "text/x-python",
   "name": "python",
   "nbconvert_exporter": "python",
   "pygments_lexer": "ipython3",
   "version": "3.12.4"
  }
 },
 "nbformat": 4,
 "nbformat_minor": 2
}
